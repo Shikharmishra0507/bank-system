{
  "nbformat": 4,
  "nbformat_minor": 0,
  "metadata": {
    "colab": {
      "name": "multipleRegression.ipynb",
      "provenance": [],
      "authorship_tag": "ABX9TyPeQ6DNVEQCaNd6SQioHN6e",
      "include_colab_link": true
    },
    "kernelspec": {
      "name": "python3",
      "display_name": "Python 3"
    }
  },
  "cells": [
    {
      "cell_type": "markdown",
      "metadata": {
        "id": "view-in-github",
        "colab_type": "text"
      },
      "source": [
        "<a href=\"https://colab.research.google.com/github/Shikharmishra0507/bank-system/blob/branch2/multipleRegression.ipynb\" target=\"_parent\"><img src=\"https://colab.research.google.com/assets/colab-badge.svg\" alt=\"Open In Colab\"/></a>"
      ]
    },
    {
      "cell_type": "markdown",
      "metadata": {
        "id": "84tpSK74t8ho",
        "colab_type": "text"
      },
      "source": [
        "**IMPORT LIBRARIES**\n"
      ]
    },
    {
      "cell_type": "code",
      "metadata": {
        "id": "kwgXDOV1t0vK",
        "colab_type": "code",
        "colab": {}
      },
      "source": [
        "import pandas as pd\n",
        "import numpy as np\n",
        "import matplotlib.pyplot as plt"
      ],
      "execution_count": 1,
      "outputs": []
    },
    {
      "cell_type": "markdown",
      "metadata": {
        "id": "-lN7mlnwt7lh",
        "colab_type": "text"
      },
      "source": [
        "**IMPORT DATASET**\n"
      ]
    },
    {
      "cell_type": "code",
      "metadata": {
        "id": "SMS-KhvIucYL",
        "colab_type": "code",
        "colab": {}
      },
      "source": [
        "dataset=pd.read_csv(\"50_Startups.csv\")\n",
        "X=dataset.iloc[ : , :-1].values\n",
        "y=dataset.iloc[:,-1].values"
      ],
      "execution_count": 3,
      "outputs": []
    },
    {
      "cell_type": "markdown",
      "metadata": {
        "id": "9HC5YeqOu91E",
        "colab_type": "text"
      },
      "source": [
        "**ENCODING THE CATEGORICAL DATA**"
      ]
    },
    {
      "cell_type": "code",
      "metadata": {
        "id": "NWNRoQsGvSya",
        "colab_type": "code",
        "colab": {}
      },
      "source": [
        "from sklearn.compose import ColumnTransformer\n",
        "from sklearn.preprocessing import OneHotEncoder\n",
        "ct=ColumnTransformer([('encoder',OneHotEncoder(),[3])],remainder='passthrough') \n",
        "X=np.array(ct.fit_transform(X))\n"
      ],
      "execution_count": 4,
      "outputs": []
    },
    {
      "cell_type": "markdown",
      "metadata": {
        "id": "rLfcZOvtFf13",
        "colab_type": "text"
      },
      "source": [
        "**SPLITING DATA IN TRAINING SET AND TEST SET**"
      ]
    },
    {
      "cell_type": "code",
      "metadata": {
        "id": "O9z2u9ubFktT",
        "colab_type": "code",
        "colab": {}
      },
      "source": [
        "from sklearn.model_selection import train_test_split\n",
        "X_train,X_test,y_train,y_test=train_test_split(X,y,test_size=0.2,random_state=0)"
      ],
      "execution_count": 9,
      "outputs": []
    },
    {
      "cell_type": "code",
      "metadata": {
        "id": "VTpqnBMlFk3N",
        "colab_type": "code",
        "colab": {
          "base_uri": "https://localhost:8080/",
          "height": 191
        },
        "outputId": "f0aa80eb-44d9-48e5-b3c9-f0b41fffab5f"
      },
      "source": [
        "from sklearn.linear_model import LinearRegression\n",
        "regressor=LinearRegression()\n",
        "regressor.fit(X_train,y_train)\n",
        "y_pred=regressor.predict(X_test)\n",
        "print(np.concatenate((y_pred.reshape(len(y_pred),1),y_test.reshape(len(y_test),1)), 1))\n"
      ],
      "execution_count": 15,
      "outputs": [
        {
          "output_type": "stream",
          "text": [
            "[[103015.20159795 103282.38      ]\n",
            " [132582.27760816 144259.4       ]\n",
            " [132447.73845175 146121.95      ]\n",
            " [ 71976.09851258  77798.83      ]\n",
            " [178537.48221057 191050.39      ]\n",
            " [116161.24230167 105008.31      ]\n",
            " [ 67851.69209676  81229.06      ]\n",
            " [ 98791.73374687  97483.56      ]\n",
            " [113969.43533014 110352.25      ]\n",
            " [167921.06569552 166187.94      ]]\n"
          ],
          "name": "stdout"
        }
      ]
    },
    {
      "cell_type": "code",
      "metadata": {
        "id": "YdCx7g8Cx_80",
        "colab_type": "code",
        "colab": {}
      },
      "source": [
        "#now to compare\n"
      ],
      "execution_count": null,
      "outputs": []
    }
  ]
}